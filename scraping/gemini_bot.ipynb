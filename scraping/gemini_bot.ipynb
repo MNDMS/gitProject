{
 "cells": [
  {
   "cell_type": "code",
   "execution_count": 1,
   "id": "6ae03047",
   "metadata": {},
   "outputs": [],
   "source": [
    "import httpx\n",
    "import asyncio\n",
    "import nest_asyncio\n",
    "from datetime import datetime, timedelta\n",
    "from telegram import Bot\n",
    "\n",
    "# Enable asyncio in a Jupyter environment\n",
    "nest_asyncio.apply()\n",
    "\n",
    "# Configuration\n",
    "BOT_TOKEN = '6593706311:AAGfep182h5A1hOifip4095pVEy4Rp7kZTs'  \n",
    "CHAT_ID = '@roofpocazz'  \n",
    "GEMINI_API_URL = 'https://api.gemini.com/v1/pubticker/'\n",
    "symbols = ['btcusdt', 'ethusdt', 'xrpusd', 'ltcusd', 'solusd', 'linkusd']  # Gemini symbols are in lowercase\n",
    "##'adausd', 'xmrusd'"
   ]
  },
  {
   "cell_type": "code",
   "execution_count": 2,
   "id": "733f01c5",
   "metadata": {},
   "outputs": [],
   "source": [
    "async def get_current_price(symbol):\n",
    "    async with httpx.AsyncClient() as client:\n",
    "        url = f'{GEMINI_API_URL}{symbol}'\n",
    "        response = await client.get(url)\n",
    "        \n",
    "        if response.status_code == 200:\n",
    "            try:\n",
    "                data = response.json()\n",
    "                price = data['last']  # Last traded price\n",
    "                return price\n",
    "            except Exception as e:\n",
    "                print('Error processing response:', e)\n",
    "                print(response.content)  # Print the full response for troubleshooting\n",
    "        else:\n",
    "            print(f'Failed to fetch data for {symbol}. Status code: {response.status_code}')\n",
    "            return None"
   ]
  },
  {
   "cell_type": "code",
   "execution_count": 3,
   "id": "65b6d8be",
   "metadata": {},
   "outputs": [],
   "source": [
    "async def send_telegram_message(message):\n",
    "    bot = Bot(token=BOT_TOKEN)\n",
    "    await bot.send_message(chat_id=CHAT_ID, text=message)"
   ]
  },
  {
   "cell_type": "code",
   "execution_count": 4,
   "id": "74b204c4",
   "metadata": {},
   "outputs": [],
   "source": [
    "async def fetch_and_send_prices():\n",
    "    gmt_plus_6_time = datetime.utcnow() + timedelta(hours=6)\n",
    "    message = f'GEMINI: Prices at {gmt_plus_6_time.strftime(\"%Y-%m-%d %H:%M:%S\")} (GMT+6):\\n\\n'\n",
    "    \n",
    "    for symbol in symbols:\n",
    "        price = await get_current_price(symbol)\n",
    "        if price is not None:\n",
    "            formatted_price = f'{float(price):.2f}'\n",
    "            # Gemini uses lowercase for symbols, converting them to uppercase for display\n",
    "            display_symbol = symbol.upper()\n",
    "            message += f'{display_symbol}: ${formatted_price}\\n'\n",
    "    \n",
    "    await send_telegram_message(message)"
   ]
  },
  {
   "cell_type": "code",
   "execution_count": 5,
   "id": "958091ef",
   "metadata": {},
   "outputs": [],
   "source": [
    "# Run the asyncio event loop\n",
    "async def main():\n",
    "    await fetch_and_send_prices()\n",
    "\n",
    "loop = asyncio.get_event_loop()\n",
    "loop.run_until_complete(main())"
   ]
  },
  {
   "cell_type": "code",
   "execution_count": null,
   "id": "0bab67e1",
   "metadata": {},
   "outputs": [],
   "source": []
  }
 ],
 "metadata": {
  "kernelspec": {
   "display_name": "Python 3 (ipykernel)",
   "language": "python",
   "name": "python3"
  },
  "language_info": {
   "codemirror_mode": {
    "name": "ipython",
    "version": 3
   },
   "file_extension": ".py",
   "mimetype": "text/x-python",
   "name": "python",
   "nbconvert_exporter": "python",
   "pygments_lexer": "ipython3",
   "version": "3.9.12"
  }
 },
 "nbformat": 4,
 "nbformat_minor": 5
}
