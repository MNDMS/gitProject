{
 "cells": [
  {
   "cell_type": "code",
   "execution_count": 1,
   "id": "5a424683",
   "metadata": {},
   "outputs": [
    {
     "name": "stdout",
     "output_type": "stream",
     "text": [
      "Defaulting to user installation because normal site-packages is not writeable\n",
      "Requirement already satisfied: nest_asyncio in c:\\programdata\\anaconda3\\lib\\site-packages (1.5.5)\n",
      "Note: you may need to restart the kernel to use updated packages.\n"
     ]
    }
   ],
   "source": [
    "##pip install nest_asyncio"
   ]
  },
  {
   "cell_type": "code",
   "execution_count": 9,
   "id": "9e8fbf8d",
   "metadata": {},
   "outputs": [],
   "source": [
    "import requests\n",
    "import asyncio\n",
    "import nest_asyncio\n",
    "from datetime import datetime, timedelta\n",
    "from telegram import Bot"
   ]
  },
  {
   "cell_type": "code",
   "execution_count": 10,
   "id": "c6f83fc1",
   "metadata": {},
   "outputs": [],
   "source": [
    "# Enable asyncio in an IPython environment\n",
    "nest_asyncio.apply()"
   ]
  },
  {
   "cell_type": "code",
   "execution_count": 11,
   "id": "e869afe7",
   "metadata": {},
   "outputs": [],
   "source": [
    "# Replace with your own API key and bot token\n",
    "API_KEY = 'taBpsETTecUFFFiSP5Blk2GMjPK65AGsnnyi7qnLA8lhx5UUD9KkJXXKL9IgLwnU'\n",
    "BOT_TOKEN = '6593706311:AAGfep182h5A1hOifip4095pVEy4Rp7kZTs'\n",
    "CHAT_ID = \"@roofpocazz\"\n",
    "symbols = ['BTCUSDT', 'ETHUSDT', 'XRPUSDT', 'LTCUSDT', 'ADAUSDT', 'SOLUSDT', 'LINKUSDT', 'XMRUSDT']"
   ]
  },
  {
   "cell_type": "code",
   "execution_count": 12,
   "id": "0cccd7b4",
   "metadata": {},
   "outputs": [],
   "source": [
    "def get_current_price(symbol):\n",
    "    url = f'https://api.binance.com/api/v3/ticker/price?symbol={symbol}'\n",
    "    headers = {\n",
    "        'X-MBX-APIKEY': API_KEY\n",
    "    }\n",
    "    response = requests.get(url, headers=headers)\n",
    "    \n",
    "    if response.status_code == 200:\n",
    "        try:\n",
    "            data = response.json()\n",
    "            print(data)\n",
    "            if 'price' in data:\n",
    "                price = data['price']\n",
    "                return price\n",
    "        except Exception as e:\n",
    "            print('Error processing response:', e)\n",
    "            print(response.content)  # Print the full response for troubleshooting\n",
    "    else:\n",
    "        print(f'Failed to fetch data for {symbol}. Status code: {response.status_code}')\n",
    "        return None"
   ]
  },
  {
   "cell_type": "code",
   "execution_count": 13,
   "id": "8cb0409b",
   "metadata": {},
   "outputs": [],
   "source": [
    "async def send_telegram_message(message):\n",
    "    bot = Bot(token=BOT_TOKEN)\n",
    "    await bot.send_message(chat_id=CHAT_ID, text=message)"
   ]
  },
  {
   "cell_type": "code",
   "execution_count": 14,
   "id": "cac358c2",
   "metadata": {},
   "outputs": [],
   "source": [
    "async def fetch_and_send_prices():\n",
    "    gmt_plus_6_time = datetime.utcnow() + timedelta(hours=6)\n",
    "    message = f'BINANCE: Prices at {gmt_plus_6_time.strftime(\"%Y-%m-%d %H:%M:%S\")} (GMT+6):\\n\\n'\n",
    "    \n",
    "    for symbol in symbols:\n",
    "        formatted_symbol = symbol[:3] + '-' + symbol[3:]  # Changes 'BTCUSDT' to 'BTC-USDT'\n",
    "        price = get_current_price(symbol)\n",
    "        if price is not None:\n",
    "            formatted_price = f'{float(price):.2f}'\n",
    "            message += f'{formatted_symbol}: {formatted_price}\\n'\n",
    "    \n",
    "    await send_telegram_message(message)"
   ]
  },
  {
   "cell_type": "code",
   "execution_count": 15,
   "id": "b32254bb",
   "metadata": {},
   "outputs": [],
   "source": [
    "# Run the asyncio event loop\n",
    "async def main():\n",
    "    await fetch_and_send_prices()"
   ]
  },
  {
   "cell_type": "code",
   "execution_count": 16,
   "id": "1da92790",
   "metadata": {},
   "outputs": [
    {
     "name": "stdout",
     "output_type": "stream",
     "text": [
      "{'symbol': 'BTCUSDT', 'price': '27908.46000000'}\n",
      "{'symbol': 'ETHUSDT', 'price': '1632.02000000'}\n",
      "{'symbol': 'XRPUSDT', 'price': '0.51980000'}\n",
      "{'symbol': 'LTCUSDT', 'price': '65.36000000'}\n",
      "{'symbol': 'ADAUSDT', 'price': '0.25710000'}\n",
      "{'symbol': 'SOLUSDT', 'price': '23.37000000'}\n",
      "{'symbol': 'LINKUSDT', 'price': '7.68100000'}\n",
      "{'symbol': 'XMRUSDT', 'price': '154.30000000'}\n"
     ]
    }
   ],
   "source": [
    "if __name__ == \"__main__\":\n",
    "    asyncio.run(main())"
   ]
  },
  {
   "cell_type": "code",
   "execution_count": null,
   "id": "e3951b22",
   "metadata": {},
   "outputs": [],
   "source": []
  }
 ],
 "metadata": {
  "kernelspec": {
   "display_name": "Python 3 (ipykernel)",
   "language": "python",
   "name": "python3"
  },
  "language_info": {
   "codemirror_mode": {
    "name": "ipython",
    "version": 3
   },
   "file_extension": ".py",
   "mimetype": "text/x-python",
   "name": "python",
   "nbconvert_exporter": "python",
   "pygments_lexer": "ipython3",
   "version": "3.9.12"
  }
 },
 "nbformat": 4,
 "nbformat_minor": 5
}
