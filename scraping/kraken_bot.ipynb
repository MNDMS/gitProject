{
 "cells": [
  {
   "cell_type": "code",
   "execution_count": 11,
   "id": "afe0a001",
   "metadata": {},
   "outputs": [],
   "source": [
    "import httpx\n",
    "import asyncio\n",
    "import nest_asyncio\n",
    "from datetime import datetime, timedelta\n",
    "from telegram import Bot\n",
    "\n",
    "# Enable asyncio in a Jupyter environment\n",
    "nest_asyncio.apply()\n",
    "\n",
    "# Configuration\n",
    "BOT_TOKEN = '6593706311:AAGfep182h5A1hOifip4095pVEy4Rp7kZTs'  \n",
    "CHAT_ID = '@roofpocazz'\n",
    "KRAKEN_API_URL = 'https://api.kraken.com/0/public/Ticker'\n",
    "symbols = ['BTCUSDT', 'ETHUSDT', 'XRPUSDT', 'LTCUSDT', 'ADAUSDT', 'SOLUSDT', 'LINKUSDT', 'XMRUSDT']"
   ]
  },
  {
   "cell_type": "code",
   "execution_count": 12,
   "id": "3024ae02",
   "metadata": {},
   "outputs": [],
   "source": [
    "async def get_current_price(symbol):\n",
    "    async with httpx.AsyncClient() as client:\n",
    "        params = {'pair': symbol}\n",
    "        response = await client.get(KRAKEN_API_URL, params=params)\n",
    "        \n",
    "        if response.status_code == 200:\n",
    "            try:\n",
    "                data = response.json()\n",
    "                kraken_symbol = list(data['result'].keys())[0]  # Get the first (and only) traded pair returned.\n",
    "                price = data['result'][kraken_symbol]['c'][0]  # 'c' is the last trade closed array, [0] is the price\n",
    "                return price\n",
    "            except Exception as e:\n",
    "                print('Error processing response:', e)\n",
    "                print(response.content)  # Print the full response for troubleshooting\n",
    "        else:\n",
    "            print(f'Failed to fetch data for {symbol}. Status code: {response.status_code}')\n",
    "            return None"
   ]
  },
  {
   "cell_type": "code",
   "execution_count": 13,
   "id": "b20cc11a",
   "metadata": {},
   "outputs": [],
   "source": [
    "async def send_telegram_message(message):\n",
    "    bot = Bot(token=BOT_TOKEN)\n",
    "    await bot.send_message(chat_id=CHAT_ID, text=message)"
   ]
  },
  {
   "cell_type": "code",
   "execution_count": 14,
   "id": "347f21b1",
   "metadata": {},
   "outputs": [],
   "source": [
    "async def fetch_and_send_prices():\n",
    "    gmt_plus_6_time = datetime.utcnow() + timedelta(hours=6)\n",
    "    message = f'KRAKEN: Prices at {gmt_plus_6_time.strftime(\"%Y-%m-%d %H:%M:%S\")} (GMT+6):\\n\\n'\n",
    "    \n",
    "    for symbol in symbols:\n",
    "        price = await get_current_price(symbol)\n",
    "        if price is not None:\n",
    "            formatted_price = f'{float(price):.2f}'\n",
    "            \n",
    "            # No need to replace 'USD' with 'USDT' as Kraken uses 'USD'\n",
    "            message += f'{symbol}: ${formatted_price}\\n'\n",
    "    \n",
    "    await send_telegram_message(message)"
   ]
  },
  {
   "cell_type": "code",
   "execution_count": 15,
   "id": "c17b49a3",
   "metadata": {},
   "outputs": [],
   "source": [
    "# Run the asyncio event loop\n",
    "async def main():\n",
    "    await fetch_and_send_prices()\n",
    "\n",
    "loop = asyncio.get_event_loop()\n",
    "loop.run_until_complete(main())"
   ]
  },
  {
   "cell_type": "code",
   "execution_count": null,
   "id": "7a9dc64b",
   "metadata": {},
   "outputs": [],
   "source": []
  }
 ],
 "metadata": {
  "kernelspec": {
   "display_name": "Python 3 (ipykernel)",
   "language": "python",
   "name": "python3"
  },
  "language_info": {
   "codemirror_mode": {
    "name": "ipython",
    "version": 3
   },
   "file_extension": ".py",
   "mimetype": "text/x-python",
   "name": "python",
   "nbconvert_exporter": "python",
   "pygments_lexer": "ipython3",
   "version": "3.9.12"
  }
 },
 "nbformat": 4,
 "nbformat_minor": 5
}
