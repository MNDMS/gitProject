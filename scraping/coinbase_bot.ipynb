{
 "cells": [
  {
   "cell_type": "code",
   "execution_count": 1,
   "id": "91037c23",
   "metadata": {},
   "outputs": [],
   "source": [
    "import requests\n",
    "import asyncio\n",
    "import nest_asyncio\n",
    "from datetime import datetime, timedelta\n",
    "from telegram import Bot"
   ]
  },
  {
   "cell_type": "code",
   "execution_count": 2,
   "id": "eaaeb331",
   "metadata": {},
   "outputs": [],
   "source": [
    "# Enable asyncio in an IPython environment\n",
    "nest_asyncio.apply()"
   ]
  },
  {
   "cell_type": "code",
   "execution_count": 3,
   "id": "7681facb",
   "metadata": {},
   "outputs": [],
   "source": [
    "BOT_TOKEN = '6593706311:AAGfep182h5A1hOifip4095pVEy4Rp7kZTs'\n",
    "CHAT_ID = \"@roofpocazz\""
   ]
  },
  {
   "cell_type": "code",
   "execution_count": 4,
   "id": "7e00423f",
   "metadata": {},
   "outputs": [],
   "source": [
    "# For Coinbase, symbols might be like 'BTC-USD' instead of 'BTCUSDT'\n",
    "symbols = ['BTC-USDT', 'ETH-USDT', 'XRP-USDT', 'LTC-USDT', 'ADA-USDT', 'SOL-USDT', 'LINK-USDT', 'XMR-USDT']"
   ]
  },
  {
   "cell_type": "code",
   "execution_count": 5,
   "id": "32e5ad43",
   "metadata": {},
   "outputs": [],
   "source": [
    "COINBASE_API_URL = 'https://api.coinbase.com/v2/prices/'"
   ]
  },
  {
   "cell_type": "code",
   "execution_count": 6,
   "id": "e0d94bb0",
   "metadata": {},
   "outputs": [],
   "source": [
    "def get_current_price(symbol):\n",
    "    url = f'{COINBASE_API_URL}{symbol}/spot'\n",
    "    \n",
    "    response = requests.get(url)\n",
    "    \n",
    "    if response.status_code == 200:\n",
    "        try:\n",
    "            data = response.json()\n",
    "            price = data['data']['amount']\n",
    "            return price\n",
    "        except Exception as e:\n",
    "            print('Error processing response:', e)\n",
    "            print(response.content)  # Print the full response for troubleshooting\n",
    "    else:\n",
    "        print(f'Failed to fetch data for {symbol}. Status code: {response.status_code}')\n",
    "        return None"
   ]
  },
  {
   "cell_type": "code",
   "execution_count": 7,
   "id": "3b35a221",
   "metadata": {},
   "outputs": [],
   "source": [
    "async def send_telegram_message(message):\n",
    "    bot = Bot(token=BOT_TOKEN)\n",
    "    await bot.send_message(chat_id=CHAT_ID, text=message)"
   ]
  },
  {
   "cell_type": "code",
   "execution_count": 8,
   "id": "6696e1fb",
   "metadata": {},
   "outputs": [],
   "source": [
    "async def fetch_and_send_prices():\n",
    "    gmt_plus_6_time = datetime.utcnow() + timedelta(hours=6)\n",
    "    message = f'COINBASE: Prices at {gmt_plus_6_time.strftime(\"%Y-%m-%d %H:%M:%S\")} (GMT+6):\\n\\n'\n",
    "    \n",
    "    for symbol in symbols:\n",
    "        price = get_current_price(symbol)\n",
    "        if price is not None:\n",
    "            formatted_price = f'{float(price):.2f}'\n",
    "            message += f'{symbol}: {formatted_price}\\n'\n",
    "    \n",
    "    await send_telegram_message(message)"
   ]
  },
  {
   "cell_type": "code",
   "execution_count": 9,
   "id": "a4de6cb2",
   "metadata": {},
   "outputs": [],
   "source": [
    "# Run the asyncio event loop\n",
    "async def main():\n",
    "    await fetch_and_send_prices()"
   ]
  },
  {
   "cell_type": "code",
   "execution_count": 10,
   "id": "90722561",
   "metadata": {},
   "outputs": [],
   "source": [
    "if __name__ == \"__main__\":\n",
    "    asyncio.run(main())"
   ]
  },
  {
   "cell_type": "code",
   "execution_count": null,
   "id": "859740a9",
   "metadata": {},
   "outputs": [],
   "source": []
  }
 ],
 "metadata": {
  "kernelspec": {
   "display_name": "Python 3 (ipykernel)",
   "language": "python",
   "name": "python3"
  },
  "language_info": {
   "codemirror_mode": {
    "name": "ipython",
    "version": 3
   },
   "file_extension": ".py",
   "mimetype": "text/x-python",
   "name": "python",
   "nbconvert_exporter": "python",
   "pygments_lexer": "ipython3",
   "version": "3.9.12"
  }
 },
 "nbformat": 4,
 "nbformat_minor": 5
}
